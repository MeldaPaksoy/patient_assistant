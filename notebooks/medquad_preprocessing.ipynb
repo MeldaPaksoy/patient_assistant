{
 "cells": [
  {
   "cell_type": "code",
   "execution_count": null,
   "id": "5fe6ebfb",
   "metadata": {
    "vscode": {
     "languageId": "plaintext"
    }
   },
   "outputs": [],
   "source": [
    "# Veri işleme için ana kütüphane\n",
    "import pandas as pd\n",
    "\n",
    "# Düzenli ifadeler (regular expressions) için, metin temizliğinde kullanılacak\n",
    "import re\n",
    "\n",
    "# Dosya yolları ve dizin işlemleri için (çıktı dizinlerini oluşturmak için)\n",
    "import os\n",
    "\n",
    "# NLTK (Natural Language Toolkit) kütüphanesi.\n",
    "# Stopword'ler ve Lemmatization için ileride kullanabiliriz.\n",
    "# Eğer yüklü değilse, Jupyter Notebook hücresinde şu komutu çalıştırabilirsiniz:\n",
    "# !pip install nltk\n",
    "import nltk\n",
    "\n",
    "# NLTK'den bazı gerekli verileri indirme (sadece bir kez çalıştırılması yeterlidir)\n",
    "# Eğer bu adımı daha önce yaptıysanız tekrar çalıştırmanıza gerek yok.\n",
    "# Her zaman indirilmiş mi diye kontrol etmek için try-except bloğu kullanabiliriz.\n",
    "try:\n",
    "    nltk.data.find('corpora/stopwords')\n",
    "except nltk.downloader.DownloadError:\n",
    "    print(\"NLTK stopwords indiriliyor...\")\n",
    "    nltk.download('stopwords') # Stopword listeleri için\n",
    "    print(\"NLTK stopwords indirildi.\")\n",
    "\n",
    "try:\n",
    "    nltk.data.find('corpora/wordnet')\n",
    "except nltk.downloader.DownloadError:\n",
    "    print(\"NLTK wordnet indiriliyor...\")\n",
    "    nltk.download('wordnet') # Lemmatization için (İngilizce)\n",
    "    print(\"NLTK wordnet indirildi.\")\n",
    "\n",
    "try:\n",
    "    nltk.data.find('taggers/averaged_perceptron_tagger')\n",
    "except nltk.downloader.DownloadError:\n",
    "    print(\"NLTK averaged_perceptron_tagger indiriliyor...\")\n",
    "    nltk.download('averaged_perceptron_tagger') # Lemmatization için (İngilizce)\n",
    "    print(\"NLTK averaged_perceptron_tagger indirildi.\")\n",
    "\n",
    "# Türkçe stopword'ler için NLTK'de yerleşik bir modül yoktur.\n",
    "# İleride, eğer Türkçe veri işleyeceksek, harici bir kaynaktan Türkçe stopword listesi kullanmamız gerekecek.\n",
    "# Şimdilik İngilizce için gerekli olanları indirdik.\n",
    "print(\"\\nTüm kütüphaneler ve NLTK verileri başarıyla içe aktarıldı.\")"
   ]
  },
  {
   "cell_type": "markdown",
   "id": "de945108",
   "metadata": {},
   "source": []
  }
 ],
 "metadata": {
  "language_info": {
   "name": "python"
  }
 },
 "nbformat": 4,
 "nbformat_minor": 5
}
