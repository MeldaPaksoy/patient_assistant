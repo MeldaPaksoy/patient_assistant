{
 "cells": [
  {
   "cell_type": "code",
   "execution_count": 9,
   "id": "78d13674-3639-4dee-9cdd-f42ebd101c2c",
   "metadata": {},
   "outputs": [
    {
     "name": "stdout",
     "output_type": "stream",
     "text": [
      "Çeviri hatası:  chills -> Request exception can happen due to an api connection error. Please check your connection and try again\n",
      "Çeviri hatası:  chills -> Request exception can happen due to an api connection error. Please check your connection and try again\n",
      "Çeviri hatası:  chills -> Request exception can happen due to an api connection error. Please check your connection and try again\n",
      "Çeviri hatası:  chills -> Request exception can happen due to an api connection error. Please check your connection and try again\n",
      "Çeviri hatası:  chills -> Request exception can happen due to an api connection error. Please check your connection and try again\n",
      "Çeviri hatası:  chills -> Request exception can happen due to an api connection error. Please check your connection and try again\n",
      "Çeviri hatası: itching -> Request exception can happen due to an api connection error. Please check your connection and try again\n",
      "Çeviri hatası: itching -> Request exception can happen due to an api connection error. Please check your connection and try again\n",
      "Çeviri hatası: itching -> Request exception can happen due to an api connection error. Please check your connection and try again\n",
      "Çeviri hatası:  joint_pain -> ('Connection aborted.', RemoteDisconnected('Remote end closed connection without response'))\n",
      "Tüm veriler başarıyla Türkçeye çevrildi ve kaydedildi.\n"
     ]
    }
   ],
   "source": [
    "import pandas as pd\n",
    "from deep_translator import GoogleTranslator\n",
    "\n",
    "# Çevirmen fonksiyonu\n",
    "def translate_text(text):\n",
    "    if pd.isnull(text) or not isinstance(text, str) or text.strip() == \"\":\n",
    "        return text\n",
    "    try:\n",
    "        return GoogleTranslator(source='en', target='tr').translate(text)\n",
    "    except Exception as e:\n",
    "        print(f\"Çeviri hatası: {text} -> {e}\")\n",
    "        return text\n",
    "\n",
    "def translate_dataframe(df):\n",
    "    return df.applymap(translate_text)\n",
    "\n",
    "# CSV dosyalarını oku\n",
    "df_symptoms = pd.read_csv(\"C:/Users/LENOVO/Desktop/patient_assistant/data/raw/clinical_conditions_symptoms/DiseaseAndSymptoms.csv\")\n",
    "df_precautions = pd.read_csv(\"C:/Users/LENOVO/Desktop/patient_assistant/data/raw/clinical_conditions_symptoms/Disease precaution.csv\")\n",
    "\n",
    "# Verileri Türkçeye çevir\n",
    "df_symptoms_tr = translate_dataframe(df_symptoms)\n",
    "df_precautions_tr = translate_dataframe(df_precautions)\n",
    "\n",
    "# Yeni dosyaları kaydet\n",
    "df_symptoms_tr.to_csv(\"Hastaliklar_ve_Belirtiler.csv\", index=False)\n",
    "df_precautions_tr.to_csv(\"Hastaliklar_ve_Onlemler.csv\", index=False)\n",
    "\n",
    "print(\"Tüm veriler başarıyla Türkçeye çevrildi ve kaydedildi.\")\n"
   ]
  },
  {
   "cell_type": "code",
   "execution_count": 3,
   "id": "cd4732a3-ab2e-486b-9941-5ea242d6b357",
   "metadata": {},
   "outputs": [
    {
     "name": "stdout",
     "output_type": "stream",
     "text": [
      "Collecting deep-translator\n",
      "  Obtaining dependency information for deep-translator from https://files.pythonhosted.org/packages/38/3f/61a8ef73236dbea83a1a063a8af2f8e1e41a0df64f122233938391d0f175/deep_translator-1.11.4-py3-none-any.whl.metadata\n",
      "  Downloading deep_translator-1.11.4-py3-none-any.whl.metadata (30 kB)\n",
      "Requirement already satisfied: beautifulsoup4<5.0.0,>=4.9.1 in c:\\users\\lenovo\\anaconda3\\lib\\site-packages (from deep-translator) (4.12.2)\n",
      "Requirement already satisfied: requests<3.0.0,>=2.23.0 in c:\\users\\lenovo\\anaconda3\\lib\\site-packages (from deep-translator) (2.32.3)\n",
      "Requirement already satisfied: soupsieve>1.2 in c:\\users\\lenovo\\anaconda3\\lib\\site-packages (from beautifulsoup4<5.0.0,>=4.9.1->deep-translator) (2.4)\n",
      "Requirement already satisfied: charset-normalizer<4,>=2 in c:\\users\\lenovo\\anaconda3\\lib\\site-packages (from requests<3.0.0,>=2.23.0->deep-translator) (2.0.4)\n",
      "Requirement already satisfied: idna<4,>=2.5 in c:\\users\\lenovo\\anaconda3\\lib\\site-packages (from requests<3.0.0,>=2.23.0->deep-translator) (3.4)\n",
      "Requirement already satisfied: urllib3<3,>=1.21.1 in c:\\users\\lenovo\\anaconda3\\lib\\site-packages (from requests<3.0.0,>=2.23.0->deep-translator) (1.26.16)\n",
      "Requirement already satisfied: certifi>=2017.4.17 in c:\\users\\lenovo\\anaconda3\\lib\\site-packages (from requests<3.0.0,>=2.23.0->deep-translator) (2024.12.14)\n",
      "Downloading deep_translator-1.11.4-py3-none-any.whl (42 kB)\n",
      "   ---------------------------------------- 0.0/42.3 kB ? eta -:--:--\n",
      "   ---------------------------------------- 42.3/42.3 kB 1.0 MB/s eta 0:00:00\n",
      "Installing collected packages: deep-translator\n",
      "Successfully installed deep-translator-1.11.4\n",
      "Note: you may need to restart the kernel to use updated packages.\n"
     ]
    }
   ],
   "source": [
    "pip install deep-translator"
   ]
  },
  {
   "cell_type": "code",
   "execution_count": null,
   "id": "1217abe3-d9f1-4626-a65c-b58487c02a7e",
   "metadata": {},
   "outputs": [],
   "source": []
  }
 ],
 "metadata": {
  "kernelspec": {
   "display_name": "Python 3 (ipykernel)",
   "language": "python",
   "name": "python3"
  },
  "language_info": {
   "codemirror_mode": {
    "name": "ipython",
    "version": 3
   },
   "file_extension": ".py",
   "mimetype": "text/x-python",
   "name": "python",
   "nbconvert_exporter": "python",
   "pygments_lexer": "ipython3",
   "version": "3.11.5"
  }
 },
 "nbformat": 4,
 "nbformat_minor": 5
}
